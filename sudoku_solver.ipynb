{
  "nbformat": 4,
  "nbformat_minor": 0,
  "metadata": {
    "colab": {
      "name": "sudoku solver.ipynb",
      "provenance": [],
      "collapsed_sections": [],
      "authorship_tag": "ABX9TyPdatTUaSAnJIZ/OpdsmP5K",
      "include_colab_link": true
    },
    "kernelspec": {
      "name": "python3",
      "display_name": "Python 3"
    },
    "language_info": {
      "name": "python"
    }
  },
  "cells": [
    {
      "cell_type": "markdown",
      "metadata": {
        "id": "view-in-github",
        "colab_type": "text"
      },
      "source": [
        "<a href=\"https://colab.research.google.com/github/srijonpal/Sudoku_and_TicTacToe/blob/main/sudoku_solver.ipynb\" target=\"_parent\"><img src=\"https://colab.research.google.com/assets/colab-badge.svg\" alt=\"Open In Colab\"/></a>"
      ]
    },
    {
      "cell_type": "code",
      "source": [
        "import numpy as np\n",
        "import random "
      ],
      "metadata": {
        "id": "J7lrXslPToNw"
      },
      "execution_count": 17,
      "outputs": []
    },
    {
      "cell_type": "code",
      "source": [
        "board = [[5,3,0,0,7,0,0,0,0],\n",
        "        [6,0,0,1,9,5,0,0,0],\n",
        "        [0,9,8,0,0,0,0,6,0],\n",
        "        [8,0,0,0,6,0,0,0,3],\n",
        "        [4,0,0,8,0,3,0,0,1],\n",
        "        [7,0,0,0,2,0,0,0,6],\n",
        "        [0,6,0,0,0,0,2,8,0],\n",
        "        [0,0,0,0,1,9,0,0,5],\n",
        "        [0,0,0,0,0,0,0,0,0]]"
      ],
      "metadata": {
        "id": "0hnFpsazT-3o"
      },
      "execution_count": 22,
      "outputs": []
    },
    {
      "cell_type": "code",
      "execution_count": 23,
      "metadata": {
        "id": "oMLxoXg7s3Pb"
      },
      "outputs": [],
      "source": [
        "def possible(row, column, number):\n",
        "    global board\n",
        "    #Is the number appearing in the given row?\n",
        "    for i in range(0,9):\n",
        "        if board[row][i] == number:\n",
        "            return False\n",
        "\n",
        "    #Is the number appearing in the given column?\n",
        "    for i in range(0,9):\n",
        "        if board[i][column] == number:\n",
        "            return False\n",
        "    \n",
        "    #Is the number appearing in the given square?\n",
        "    x0 = (column // 3) * 3\n",
        "    y0 = (row // 3) * 3\n",
        "    for i in range(0,3):\n",
        "        for j in range(0,3):\n",
        "            if board[y0+i][x0+j] == number:\n",
        "                return False\n",
        "\n",
        "    return True\n",
        "\n"
      ]
    },
    {
      "cell_type": "code",
      "source": [
        "def solve():\n",
        "    global grid\n",
        "    for row in range(0,9):\n",
        "        for column in range(0,9):\n",
        "            if board[row][column] == 0:\n",
        "                for number in range(1,10):\n",
        "                    if possible(row, column, number):\n",
        "                        board[row][column] = number\n",
        "                        solve()\n",
        "                        board[row][column] = 0\n",
        "\n",
        "                return\n",
        "\n",
        "\n",
        "    print(np.matrix(board))\n",
        "    input('More possible solutions')"
      ],
      "metadata": {
        "id": "PjSHH4b_TsPw"
      },
      "execution_count": 24,
      "outputs": []
    },
    {
      "cell_type": "code",
      "source": [
        "solve()"
      ],
      "metadata": {
        "colab": {
          "base_uri": "https://localhost:8080/"
        },
        "id": "zTSPBQykVhIS",
        "outputId": "9419141d-170d-4659-e5c5-946f1b4d6496"
      },
      "execution_count": 26,
      "outputs": [
        {
          "name": "stdout",
          "output_type": "stream",
          "text": [
            "[[5 3 4 2 8 6 1 7 9]\n",
            " [6 7 2 1 9 5 3 4 8]\n",
            " [1 9 8 3 7 4 5 6 2]\n",
            " [8 5 7 9 6 1 4 2 3]\n",
            " [4 2 6 8 5 3 7 9 1]\n",
            " [9 1 3 4 2 7 8 5 6]\n",
            " [3 6 1 5 4 9 2 8 7]\n",
            " [2 4 9 7 1 8 6 3 5]\n",
            " [7 8 5 6 3 2 9 1 4]]\n",
            "More possible solutions\n"
          ]
        }
      ]
    }
  ]
}