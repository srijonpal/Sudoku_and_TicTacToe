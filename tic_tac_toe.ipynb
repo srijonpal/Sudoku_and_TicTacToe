{
  "cells": [
    {
      "cell_type": "markdown",
      "metadata": {
        "id": "view-in-github",
        "colab_type": "text"
      },
      "source": [
        "<a href=\"https://colab.research.google.com/github/srijonpal/Sudoku_and_TicTacToe/blob/main/tic_tac_toe.ipynb\" target=\"_parent\"><img src=\"https://colab.research.google.com/assets/colab-badge.svg\" alt=\"Open In Colab\"/></a>"
      ]
    },
    {
      "cell_type": "markdown",
      "metadata": {
        "id": "MSd4OZF3VASU"
      },
      "source": [
        "### Exercise 1\n",
        "\n",
        "Tic-tac-toe (or noughts and crosses) is a simple strategy game in which two players take turns placing a mark on a 3x3 board, attempting to make a row, column, or diagonal of three with their mark. In this homework, we will use the tools we've covered in the past two weeks to create a tic-tac-toe simulator and evaluate basic winning strategies.\n",
        "\n",
        "In the following exercises, we will learn to create a tic-tac-toe board, place markers on the board, evaluate if either player has won, and use this to simulate two basic strategies.\n"
      ]
    },
    {
      "cell_type": "code",
      "execution_count": 17,
      "metadata": {
        "id": "rF-x2kVaVASZ"
      },
      "outputs": [],
      "source": [
        "import random \n",
        "random.seed(1)\n",
        "\n",
        "# write your code here!\n",
        "def random_place(board,player):\n",
        "  if (player == 1) | (player == 2) & (len(possibilities(board)) > 0): \n",
        "    x = random.choice(possibilities(board))\n",
        "    board[x] = player\n",
        "  else:\n",
        "    print(\"Enter player 1 or 2\")\n"
      ]
    },
    {
      "cell_type": "code",
      "execution_count": 18,
      "metadata": {
        "id": "hWErq2oMVASd"
      },
      "outputs": [],
      "source": [
        "# This functions are helping to check if the game is won or not!\n",
        "\n",
        "def row_win(board, player):\n",
        "  for i in range(3):\n",
        "    if np.sum(board[i,:] == player) == 3:\n",
        "      return True\n",
        "    \n",
        "  return False\n",
        "\n",
        "def col_win(board, player):\n",
        "  for i in range(3):\n",
        "    if np.sum(board[:,i] == player) == 3:\n",
        "      return True\n",
        "    \n",
        "  return False\n",
        "\n",
        "def diag_win(board, player):\n",
        "  if (board[(0,0)] == player) & (board[(1,1)] == player) & (board[(2,2)] == player):\n",
        "      return True\n",
        "  elif (board[(0,2)] == player) & (board[(1,1)] == player) & (board[(2,0)] == player):\n",
        "    return True\n",
        "\n",
        "  return False\n"
      ]
    },
    {
      "cell_type": "code",
      "execution_count": 19,
      "metadata": {
        "id": "2DkwfBkqVASd"
      },
      "outputs": [],
      "source": [
        "def evaluate(board):\n",
        "    winner = 0\n",
        "    for player in [1, 2]:\n",
        "        # add your code here!\n",
        "        if row_win(board,player) | col_win(board,player) | diag_win(board,player):\n",
        "          winner = player\n",
        "        pass\n",
        "    if np.all(board != 0) and winner == 0:\n",
        "        winner = -1\n",
        "    return winner"
      ]
    },
    {
      "cell_type": "markdown",
      "metadata": {
        "id": "2-X8jGQrVASe"
      },
      "source": [
        "**Create Random Tic Tac Toe game**\n",
        "\n",
        "All the moves are made at random"
      ]
    },
    {
      "cell_type": "code",
      "execution_count": 20,
      "metadata": {
        "colab": {
          "base_uri": "https://localhost:8080/"
        },
        "id": "1lcMn8hPVASf",
        "outputId": "d03caeb3-af16-4ea5-a4fc-4b1b79804d20"
      },
      "outputs": [
        {
          "output_type": "execute_result",
          "data": {
            "text/plain": [
              "{1: 591, 2: 286, -1: 123}"
            ]
          },
          "metadata": {},
          "execution_count": 20
        }
      ],
      "source": [
        "random.seed(1)\n",
        "\n",
        "# write your code here! \n",
        "def play_game():\n",
        "  board = create_board()\n",
        "  for step in range(9):\n",
        "    random_place(board,step%2 + 1)\n",
        "    res = evaluate(board)\n",
        "    if (res == 0):\n",
        "      continue\n",
        "    else:\n",
        "      return res\n",
        "\n",
        "results = [play_game() for i in range(1000)]\n",
        "dct={}\n",
        "for x in set(results):\n",
        "  dct[x]=results.count(x)\n",
        "dct\n"
      ]
    },
    {
      "cell_type": "markdown",
      "metadata": {
        "id": "LrwafmHdVASf"
      },
      "source": [
        "**Playing Strategically**\n",
        "\n",
        "As Player 1 always chooses middle block"
      ]
    },
    {
      "cell_type": "code",
      "execution_count": 21,
      "metadata": {
        "colab": {
          "base_uri": "https://localhost:8080/"
        },
        "id": "qUNvJXHeVASg",
        "outputId": "1dcfd47b-6f8a-4d93-d8c4-c716753dd32b"
      },
      "outputs": [
        {
          "output_type": "execute_result",
          "data": {
            "text/plain": [
              "{1: 716, 2: 194, -1: 90}"
            ]
          },
          "metadata": {},
          "execution_count": 21
        }
      ],
      "source": [
        "random.seed(1)\n",
        "\n",
        "# write your code here\n",
        "def play_strategic_game():\n",
        "  board = create_board()\n",
        "  place(board,1,(1,1))\n",
        "  for step in range(1,9):\n",
        "    random_place(board,step%2 + 1)\n",
        "    res = evaluate(board)\n",
        "    if (res == 0):\n",
        "      continue\n",
        "    else:\n",
        "      return res\n",
        "\n",
        "results = [play_strategic_game() for i in range(1000)]\n",
        "dct={}\n",
        "for x in set(results):\n",
        "  dct[x]=results.count(x)\n",
        "dct"
      ]
    }
  ],
  "metadata": {
    "kernelspec": {
      "display_name": "Python 3",
      "language": "python",
      "name": "python3"
    },
    "language_info": {
      "codemirror_mode": {
        "name": "ipython",
        "version": 3
      },
      "file_extension": ".py",
      "mimetype": "text/x-python",
      "name": "python",
      "nbconvert_exporter": "python",
      "pygments_lexer": "ipython3",
      "version": "3.7.3"
    },
    "colab": {
      "name": "tic_tac_toe.ipynb",
      "provenance": [],
      "collapsed_sections": [],
      "include_colab_link": true
    }
  },
  "nbformat": 4,
  "nbformat_minor": 0
}